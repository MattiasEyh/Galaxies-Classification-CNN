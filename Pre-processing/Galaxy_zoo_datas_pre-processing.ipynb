{
 "cells": [
  {
   "cell_type": "markdown",
   "metadata": {
    "collapsed": true,
    "pycharm": {
     "name": "#%% md\n"
    }
   },
   "source": [
    "# Clean and explore galaxy zoo datasets\n",
    "This file details the data cleansing of the Galaxy Zoo dataset and explains the correlations found between the datasets features.\n",
    "Mattias EYHERABIDE, Théo MOREL"
   ]
  },
  {
   "cell_type": "markdown",
   "source": [
    "  <img src=\"../Pics/AM0002.png\" width=\"900\"> </br>\n",
    "Picture of AM0002 captured by Hubble telescope"
   ],
   "metadata": {
    "collapsed": false,
    "pycharm": {
     "name": "#%% md\n"
    }
   }
  },
  {
   "cell_type": "markdown",
   "source": [
    "## Abstract\n",
    "\n",
    "### Galaxy zoo\n",
    "...\n",
    "\n",
    "### Galaxies classification\n",
    "..."
   ],
   "metadata": {
    "collapsed": false,
    "pycharm": {
     "name": "#%% md\n"
    }
   }
  },
  {
   "cell_type": "markdown",
   "source": [
    "## Pre-processing\n",
    "....\n",
    "### Library imports"
   ],
   "metadata": {
    "collapsed": false,
    "pycharm": {
     "name": "#%% md\n"
    }
   }
  },
  {
   "cell_type": "code",
   "execution_count": 1,
   "outputs": [],
   "source": [
    "import numpy as np\n",
    "import pandas as pd\n",
    "import matplotlib.pyplot as plt\n",
    "import seaborn as sns"
   ],
   "metadata": {
    "collapsed": false,
    "pycharm": {
     "name": "#%%\n"
    }
   }
  },
  {
   "cell_type": "markdown",
   "source": [
    "### Basic analysis"
   ],
   "metadata": {
    "collapsed": false,
    "pycharm": {
     "name": "#%% md\n"
    }
   }
  },
  {
   "cell_type": "code",
   "execution_count": 7,
   "outputs": [
    {
     "data": {
      "text/plain": "                OBJID           RA          DEC  NVOTE   P_EL   P_CW  P_ACW  \\\n0  587727178986356823  00:00:00.41  -10:22:25.7     59  0.610  0.034  0.000   \n1  587727227300741210  00:00:00.74  -09:13:20.2     18  0.611  0.000  0.167   \n2  587727225153257596  00:00:01.03  -10:56:48.0     68  0.735  0.029  0.000   \n3  587730774962536596  00:00:01.38  +15:30:35.3     52  0.885  0.019  0.000   \n4  587731186203885750  00:00:01.55  -00:05:33.3     59  0.712  0.000  0.000   \n\n   P_EDGE   P_DK   P_MG   P_CS  P_EL_DEBIASED  P_CS_DEBIASED  SPIRAL  \\\n0   0.153  0.153  0.051  0.186          0.610          0.186       0   \n1   0.222  0.000  0.000  0.389          0.203          0.797       1   \n2   0.147  0.074  0.015  0.176          0.432          0.428       0   \n3   0.058  0.019  0.019  0.077          0.885          0.077       0   \n4   0.220  0.068  0.000  0.220          0.640          0.290       0   \n\n   ELLIPTICAL  UNCERTAIN  \n0           0          1  \n1           0          0  \n2           0          1  \n3           1          0  \n4           0          1  ",
      "text/html": "<div>\n<style scoped>\n    .dataframe tbody tr th:only-of-type {\n        vertical-align: middle;\n    }\n\n    .dataframe tbody tr th {\n        vertical-align: top;\n    }\n\n    .dataframe thead th {\n        text-align: right;\n    }\n</style>\n<table border=\"1\" class=\"dataframe\">\n  <thead>\n    <tr style=\"text-align: right;\">\n      <th></th>\n      <th>OBJID</th>\n      <th>RA</th>\n      <th>DEC</th>\n      <th>NVOTE</th>\n      <th>P_EL</th>\n      <th>P_CW</th>\n      <th>P_ACW</th>\n      <th>P_EDGE</th>\n      <th>P_DK</th>\n      <th>P_MG</th>\n      <th>P_CS</th>\n      <th>P_EL_DEBIASED</th>\n      <th>P_CS_DEBIASED</th>\n      <th>SPIRAL</th>\n      <th>ELLIPTICAL</th>\n      <th>UNCERTAIN</th>\n    </tr>\n  </thead>\n  <tbody>\n    <tr>\n      <th>0</th>\n      <td>587727178986356823</td>\n      <td>00:00:00.41</td>\n      <td>-10:22:25.7</td>\n      <td>59</td>\n      <td>0.610</td>\n      <td>0.034</td>\n      <td>0.000</td>\n      <td>0.153</td>\n      <td>0.153</td>\n      <td>0.051</td>\n      <td>0.186</td>\n      <td>0.610</td>\n      <td>0.186</td>\n      <td>0</td>\n      <td>0</td>\n      <td>1</td>\n    </tr>\n    <tr>\n      <th>1</th>\n      <td>587727227300741210</td>\n      <td>00:00:00.74</td>\n      <td>-09:13:20.2</td>\n      <td>18</td>\n      <td>0.611</td>\n      <td>0.000</td>\n      <td>0.167</td>\n      <td>0.222</td>\n      <td>0.000</td>\n      <td>0.000</td>\n      <td>0.389</td>\n      <td>0.203</td>\n      <td>0.797</td>\n      <td>1</td>\n      <td>0</td>\n      <td>0</td>\n    </tr>\n    <tr>\n      <th>2</th>\n      <td>587727225153257596</td>\n      <td>00:00:01.03</td>\n      <td>-10:56:48.0</td>\n      <td>68</td>\n      <td>0.735</td>\n      <td>0.029</td>\n      <td>0.000</td>\n      <td>0.147</td>\n      <td>0.074</td>\n      <td>0.015</td>\n      <td>0.176</td>\n      <td>0.432</td>\n      <td>0.428</td>\n      <td>0</td>\n      <td>0</td>\n      <td>1</td>\n    </tr>\n    <tr>\n      <th>3</th>\n      <td>587730774962536596</td>\n      <td>00:00:01.38</td>\n      <td>+15:30:35.3</td>\n      <td>52</td>\n      <td>0.885</td>\n      <td>0.019</td>\n      <td>0.000</td>\n      <td>0.058</td>\n      <td>0.019</td>\n      <td>0.019</td>\n      <td>0.077</td>\n      <td>0.885</td>\n      <td>0.077</td>\n      <td>0</td>\n      <td>1</td>\n      <td>0</td>\n    </tr>\n    <tr>\n      <th>4</th>\n      <td>587731186203885750</td>\n      <td>00:00:01.55</td>\n      <td>-00:05:33.3</td>\n      <td>59</td>\n      <td>0.712</td>\n      <td>0.000</td>\n      <td>0.000</td>\n      <td>0.220</td>\n      <td>0.068</td>\n      <td>0.000</td>\n      <td>0.220</td>\n      <td>0.640</td>\n      <td>0.290</td>\n      <td>0</td>\n      <td>0</td>\n      <td>1</td>\n    </tr>\n  </tbody>\n</table>\n</div>"
     },
     "execution_count": 7,
     "metadata": {},
     "output_type": "execute_result"
    }
   ],
   "source": [
    "data = pd.read_csv(\"../Datas/GalaxyZoo1_DR_table2.csv\")\n",
    "data.head()"
   ],
   "metadata": {
    "collapsed": false,
    "pycharm": {
     "name": "#%%\n"
    }
   }
  },
  {
   "cell_type": "markdown",
   "source": [
    "Size of the dataset"
   ],
   "metadata": {
    "collapsed": false
   }
  },
  {
   "cell_type": "code",
   "execution_count": 8,
   "outputs": [
    {
     "data": {
      "text/plain": "(667944, 16)"
     },
     "execution_count": 8,
     "metadata": {},
     "output_type": "execute_result"
    }
   ],
   "source": [
    "data.shape"
   ],
   "metadata": {
    "collapsed": false,
    "pycharm": {
     "name": "#%%\n"
    }
   }
  },
  {
   "cell_type": "markdown",
   "source": [
    "Type analysis"
   ],
   "metadata": {
    "collapsed": false,
    "pycharm": {
     "name": "#%% md\n"
    }
   }
  },
  {
   "cell_type": "code",
   "execution_count": 9,
   "outputs": [
    {
     "data": {
      "text/plain": "<AxesSubplot:ylabel='None'>"
     },
     "execution_count": 9,
     "metadata": {},
     "output_type": "execute_result"
    },
    {
     "data": {
      "text/plain": "<Figure size 432x288 with 1 Axes>",
      "image/png": "[encoded data removed]"
     },
     "metadata": {},
     "output_type": "display_data"
    }
   ],
   "source": [
    "df = data\n",
    "df.dtypes.value_counts().plot.pie()"
   ],
   "metadata": {
    "collapsed": false,
    "pycharm": {
     "name": "#%%\n"
    }
   }
  },
  {
   "cell_type": "markdown",
   "source": [
    "### Basic checklist\n",
    "- **Targets variables** : Spiral, Elliptical and Uncertain\n",
    "- **lignes et colonnes** : (667944, 16)\n",
    "- **Type de variables** : Majortiée de numérique, le reste sont objet (ici du texte)\n",
    "- **Analyse des valeurs manquantes** : Aucunes valeurs manquantes"
   ],
   "metadata": {
    "collapsed": false,
    "pycharm": {
     "name": "#%% md\n"
    }
   }
  },
  {
   "cell_type": "code",
   "execution_count": null,
   "outputs": [],
   "source": [],
   "metadata": {
    "collapsed": false,
    "pycharm": {
     "name": "#%%\n"
    }
   }
  }
 ],
 "metadata": {
  "kernelspec": {
   "display_name": "Python 3",
   "language": "python",
   "name": "python3"
  },
  "language_info": {
   "codemirror_mode": {
    "name": "ipython",
    "version": 2
   },
   "file_extension": ".py",
   "mimetype": "text/x-python",
   "name": "python",
   "nbconvert_exporter": "python",
   "pygments_lexer": "ipython2",
   "version": "2.7.6"
  }
 },
 "nbformat": 4,
 "nbformat_minor": 0
}