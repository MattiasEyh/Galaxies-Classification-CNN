{
 "cells": [
  {
   "cell_type": "markdown",
   "metadata": {
    "collapsed": true,
    "pycharm": {
     "name": "#%% md\n"
    }
   },
   "source": [
    "# Clean and explore galaxy zoo datasets\n",
    "This file details the data cleansing of the Galaxy Zoo dataset and explains the correlations found between the datasets features.\n",
    "Mattias EYHERABIDE, Théo MOREL"
   ]
  },
  {
   "cell_type": "markdown",
   "source": [
    "  <img src=\"../Pics/AM0002.png\" width=\"900\"> </br>\n",
    "Picture of AM0002 captured by Hubble telescope"
   ],
   "metadata": {
    "collapsed": false,
    "pycharm": {
     "name": "#%% md\n"
    }
   }
  },
  {
   "cell_type": "markdown",
   "source": [
    "## Abstract\n",
    "\n",
    "### Galaxy zoo\n",
    "...\n",
    "\n",
    "### Galaxies classification\n",
    "..."
   ],
   "metadata": {
    "collapsed": false,
    "pycharm": {
     "name": "#%% md\n"
    }
   }
  },
  {
   "cell_type": "markdown",
   "source": [
    "## Pre-processing\n",
    "....\n",
    "### Library imports"
   ],
   "metadata": {
    "collapsed": false,
    "pycharm": {
     "name": "#%% md\n"
    }
   }
  },
  {
   "cell_type": "code",
   "execution_count": 64,
   "outputs": [],
   "source": [
    "import numpy as np\n",
    "import pandas as pd\n",
    "import matplotlib.pyplot as plt\n",
    "import seaborn as sns\n",
    "\n",
    "import warnings\n",
    "warnings.filterwarnings('ignore')"
   ],
   "metadata": {
    "collapsed": false,
    "pycharm": {
     "name": "#%%\n"
    }
   }
  },
  {
   "cell_type": "markdown",
   "source": [
    "### Basic analysis"
   ],
   "metadata": {
    "collapsed": false,
    "pycharm": {
     "name": "#%% md\n"
    }
   }
  },
  {
   "cell_type": "code",
   "execution_count": 65,
   "outputs": [],
   "source": [
    "from IPython.core.display import display\n",
    "\n",
    "\n",
    "def VisualiseDataset(dataset):\n",
    "\n",
    "    print(\"En-tête du dataset :\\n----------\\n\")\n",
    "    display(dataset.head())\n",
    "\n",
    "    print(\"Informations des types du dataset :\\n----------\\n\")\n",
    "    display(dataset.info())\n",
    "\n",
    "    print(\"\\n----------\\nTaille du dataset :\")\n",
    "    display(dataset.shape)\n",
    "\n",
    "    print(\"Informations du dataset :\\n----------\\n\")\n",
    "    display(dataset.describe())\n",
    "\n",
    "    print(\"Pourcentage de valeurs manquantes :\\n----------\\n\")\n",
    "    display((df.isna().sum()/df.shape[0]).sort_values())\n",
    "\n",
    "    print(\"Type des valeurs :\\n----------\\n\")\n",
    "    display(df.dtypes.value_counts().plot.pie())"
   ],
   "metadata": {
    "collapsed": false,
    "pycharm": {
     "name": "#%%\n"
    }
   }
  },
  {
   "cell_type": "code",
   "execution_count": 66,
   "outputs": [
    {
     "name": "stdout",
     "output_type": "stream",
     "text": [
      "En-tête du dataset :\n",
      "----------\n",
      "\n"
     ]
    },
    {
     "data": {
      "text/plain": "                OBJID           RA          DEC  NVOTE   P_EL   P_CW  P_ACW  \\\n0  587727178986356823  00:00:00.41  -10:22:25.7     59  0.610  0.034  0.000   \n1  587727227300741210  00:00:00.74  -09:13:20.2     18  0.611  0.000  0.167   \n2  587727225153257596  00:00:01.03  -10:56:48.0     68  0.735  0.029  0.000   \n3  587730774962536596  00:00:01.38  +15:30:35.3     52  0.885  0.019  0.000   \n4  587731186203885750  00:00:01.55  -00:05:33.3     59  0.712  0.000  0.000   \n\n   P_EDGE   P_DK   P_MG   P_CS  P_EL_DEBIASED  P_CS_DEBIASED  SPIRAL  \\\n0   0.153  0.153  0.051  0.186          0.610          0.186       0   \n1   0.222  0.000  0.000  0.389          0.203          0.797       1   \n2   0.147  0.074  0.015  0.176          0.432          0.428       0   \n3   0.058  0.019  0.019  0.077          0.885          0.077       0   \n4   0.220  0.068  0.000  0.220          0.640          0.290       0   \n\n   ELLIPTICAL  UNCERTAIN  \n0           0          1  \n1           0          0  \n2           0          1  \n3           1          0  \n4           0          1  ",
      "text/html": "<div>\n<style scoped>\n    .dataframe tbody tr th:only-of-type {\n        vertical-align: middle;\n    }\n\n    .dataframe tbody tr th {\n        vertical-align: top;\n    }\n\n    .dataframe thead th {\n        text-align: right;\n    }\n</style>\n<table border=\"1\" class=\"dataframe\">\n  <thead>\n    <tr style=\"text-align: right;\">\n      <th></th>\n      <th>OBJID</th>\n      <th>RA</th>\n      <th>DEC</th>\n      <th>NVOTE</th>\n      <th>P_EL</th>\n      <th>P_CW</th>\n      <th>P_ACW</th>\n      <th>P_EDGE</th>\n      <th>P_DK</th>\n      <th>P_MG</th>\n      <th>P_CS</th>\n      <th>P_EL_DEBIASED</th>\n      <th>P_CS_DEBIASED</th>\n      <th>SPIRAL</th>\n      <th>ELLIPTICAL</th>\n      <th>UNCERTAIN</th>\n    </tr>\n  </thead>\n  <tbody>\n    <tr>\n      <th>0</th>\n      <td>587727178986356823</td>\n      <td>00:00:00.41</td>\n      <td>-10:22:25.7</td>\n      <td>59</td>\n      <td>0.610</td>\n      <td>0.034</td>\n      <td>0.000</td>\n      <td>0.153</td>\n      <td>0.153</td>\n      <td>0.051</td>\n      <td>0.186</td>\n      <td>0.610</td>\n      <td>0.186</td>\n      <td>0</td>\n      <td>0</td>\n      <td>1</td>\n    </tr>\n    <tr>\n      <th>1</th>\n      <td>587727227300741210</td>\n      <td>00:00:00.74</td>\n      <td>-09:13:20.2</td>\n      <td>18</td>\n      <td>0.611</td>\n      <td>0.000</td>\n      <td>0.167</td>\n      <td>0.222</td>\n      <td>0.000</td>\n      <td>0.000</td>\n      <td>0.389</td>\n      <td>0.203</td>\n      <td>0.797</td>\n      <td>1</td>\n      <td>0</td>\n      <td>0</td>\n    </tr>\n    <tr>\n      <th>2</th>\n      <td>587727225153257596</td>\n      <td>00:00:01.03</td>\n      <td>-10:56:48.0</td>\n      <td>68</td>\n      <td>0.735</td>\n      <td>0.029</td>\n      <td>0.000</td>\n      <td>0.147</td>\n      <td>0.074</td>\n      <td>0.015</td>\n      <td>0.176</td>\n      <td>0.432</td>\n      <td>0.428</td>\n      <td>0</td>\n      <td>0</td>\n      <td>1</td>\n    </tr>\n    <tr>\n      <th>3</th>\n      <td>587730774962536596</td>\n      <td>00:00:01.38</td>\n      <td>+15:30:35.3</td>\n      <td>52</td>\n      <td>0.885</td>\n      <td>0.019</td>\n      <td>0.000</td>\n      <td>0.058</td>\n      <td>0.019</td>\n      <td>0.019</td>\n      <td>0.077</td>\n      <td>0.885</td>\n      <td>0.077</td>\n      <td>0</td>\n      <td>1</td>\n      <td>0</td>\n    </tr>\n    <tr>\n      <th>4</th>\n      <td>587731186203885750</td>\n      <td>00:00:01.55</td>\n      <td>-00:05:33.3</td>\n      <td>59</td>\n      <td>0.712</td>\n      <td>0.000</td>\n      <td>0.000</td>\n      <td>0.220</td>\n      <td>0.068</td>\n      <td>0.000</td>\n      <td>0.220</td>\n      <td>0.640</td>\n      <td>0.290</td>\n      <td>0</td>\n      <td>0</td>\n      <td>1</td>\n    </tr>\n  </tbody>\n</table>\n</div>"
     },
     "metadata": {},
     "output_type": "display_data"
    },
    {
     "name": "stdout",
     "output_type": "stream",
     "text": [
      "Informations des types du dataset :\n",
      "----------\n",
      "\n",
      "<class 'pandas.core.frame.DataFrame'>\n",
      "RangeIndex: 667944 entries, 0 to 667943\n",
      "Data columns (total 16 columns):\n",
      " #   Column         Non-Null Count   Dtype  \n",
      "---  ------         --------------   -----  \n",
      " 0   OBJID          667944 non-null  int64  \n",
      " 1   RA             667944 non-null  object \n",
      " 2   DEC            667944 non-null  object \n",
      " 3   NVOTE          667944 non-null  int64  \n",
      " 4   P_EL           667944 non-null  float64\n",
      " 5   P_CW           667944 non-null  float64\n",
      " 6   P_ACW          667944 non-null  float64\n",
      " 7   P_EDGE         667944 non-null  float64\n",
      " 8   P_DK           667944 non-null  float64\n",
      " 9   P_MG           667944 non-null  float64\n",
      " 10  P_CS           667944 non-null  float64\n",
      " 11  P_EL_DEBIASED  667944 non-null  float64\n",
      " 12  P_CS_DEBIASED  667944 non-null  float64\n",
      " 13  SPIRAL         667944 non-null  int64  \n",
      " 14  ELLIPTICAL     667944 non-null  int64  \n",
      " 15  UNCERTAIN      667944 non-null  int64  \n",
      "dtypes: float64(9), int64(5), object(2)\n",
      "memory usage: 81.5+ MB\n"
     ]
    },
    {
     "data": {
      "text/plain": "None"
     },
     "metadata": {},
     "output_type": "display_data"
    },
    {
     "name": "stdout",
     "output_type": "stream",
     "text": [
      "\n",
      "----------\n",
      "Taille du dataset :\n"
     ]
    },
    {
     "data": {
      "text/plain": "(667944, 16)"
     },
     "metadata": {},
     "output_type": "display_data"
    },
    {
     "name": "stdout",
     "output_type": "stream",
     "text": [
      "Informations du dataset :\n",
      "----------\n",
      "\n"
     ]
    },
    {
     "data": {
      "text/plain": "              OBJID          NVOTE           P_EL           P_CW  \\\ncount  6.679440e+05  667944.000000  667944.000000  667944.000000   \nmean   5.878143e+17      38.760986       0.535947       0.074007   \nstd    1.796023e+14      13.827837       0.284315       0.174440   \nmin    5.877230e+17       4.000000       0.000000       0.000000   \n25%    5.877320e+17      28.000000       0.306000       0.000000   \n50%    5.877386e+17      34.000000       0.581000       0.016000   \n75%    5.877428e+17      51.000000       0.783000       0.051000   \nmax    5.888489e+17      94.000000       1.000000       1.000000   \n\n               P_ACW         P_EDGE           P_DK           P_MG  \\\ncount  667944.000000  667944.000000  667944.000000  667944.000000   \nmean        0.080736       0.205066       0.072924       0.031244   \nstd         0.179102       0.216642       0.085788       0.089369   \nmin         0.000000       0.000000       0.000000       0.000000   \n25%         0.000000       0.054000       0.018000       0.000000   \n50%         0.021000       0.130000       0.053000       0.000000   \n75%         0.062000       0.275000       0.103000       0.020000   \nmax         1.000000       1.000000       1.000000       1.000000   \n\n                P_CS  P_EL_DEBIASED  P_CS_DEBIASED         SPIRAL  \\\ncount  667944.000000  667944.000000  667944.000000  667944.000000   \nmean        0.359850       0.393508       0.483439       0.284792   \nstd         0.298643       0.301595       0.321747       0.451316   \nmin         0.000000       0.000000       0.000000       0.000000   \n25%         0.102000       0.106000       0.180000       0.000000   \n50%         0.267000       0.347000       0.462000       0.000000   \n75%         0.586000       0.664000       0.789000       1.000000   \nmax         1.000000       1.000000       1.000000       1.000000   \n\n          ELLIPTICAL      UNCERTAIN  \ncount  667944.000000  667944.000000  \nmean        0.093107       0.622102  \nstd         0.290582       0.484862  \nmin         0.000000       0.000000  \n25%         0.000000       0.000000  \n50%         0.000000       1.000000  \n75%         0.000000       1.000000  \nmax         1.000000       1.000000  ",
      "text/html": "<div>\n<style scoped>\n    .dataframe tbody tr th:only-of-type {\n        vertical-align: middle;\n    }\n\n    .dataframe tbody tr th {\n        vertical-align: top;\n    }\n\n    .dataframe thead th {\n        text-align: right;\n    }\n</style>\n<table border=\"1\" class=\"dataframe\">\n  <thead>\n    <tr style=\"text-align: right;\">\n      <th></th>\n      <th>OBJID</th>\n      <th>NVOTE</th>\n      <th>P_EL</th>\n      <th>P_CW</th>\n      <th>P_ACW</th>\n      <th>P_EDGE</th>\n      <th>P_DK</th>\n      <th>P_MG</th>\n      <th>P_CS</th>\n      <th>P_EL_DEBIASED</th>\n      <th>P_CS_DEBIASED</th>\n      <th>SPIRAL</th>\n      <th>ELLIPTICAL</th>\n      <th>UNCERTAIN</th>\n    </tr>\n  </thead>\n  <tbody>\n    <tr>\n      <th>count</th>\n      <td>6.679440e+05</td>\n      <td>667944.000000</td>\n      <td>667944.000000</td>\n      <td>667944.000000</td>\n      <td>667944.000000</td>\n      <td>667944.000000</td>\n      <td>667944.000000</td>\n      <td>667944.000000</td>\n      <td>667944.000000</td>\n      <td>667944.000000</td>\n      <td>667944.000000</td>\n      <td>667944.000000</td>\n      <td>667944.000000</td>\n      <td>667944.000000</td>\n    </tr>\n    <tr>\n      <th>mean</th>\n      <td>5.878143e+17</td>\n      <td>38.760986</td>\n      <td>0.535947</td>\n      <td>0.074007</td>\n      <td>0.080736</td>\n      <td>0.205066</td>\n      <td>0.072924</td>\n      <td>0.031244</td>\n      <td>0.359850</td>\n      <td>0.393508</td>\n      <td>0.483439</td>\n      <td>0.284792</td>\n      <td>0.093107</td>\n      <td>0.622102</td>\n    </tr>\n    <tr>\n      <th>std</th>\n      <td>1.796023e+14</td>\n      <td>13.827837</td>\n      <td>0.284315</td>\n      <td>0.174440</td>\n      <td>0.179102</td>\n      <td>0.216642</td>\n      <td>0.085788</td>\n      <td>0.089369</td>\n      <td>0.298643</td>\n      <td>0.301595</td>\n      <td>0.321747</td>\n      <td>0.451316</td>\n      <td>0.290582</td>\n      <td>0.484862</td>\n    </tr>\n    <tr>\n      <th>min</th>\n      <td>5.877230e+17</td>\n      <td>4.000000</td>\n      <td>0.000000</td>\n      <td>0.000000</td>\n      <td>0.000000</td>\n      <td>0.000000</td>\n      <td>0.000000</td>\n      <td>0.000000</td>\n      <td>0.000000</td>\n      <td>0.000000</td>\n      <td>0.000000</td>\n      <td>0.000000</td>\n      <td>0.000000</td>\n      <td>0.000000</td>\n    </tr>\n    <tr>\n      <th>25%</th>\n      <td>5.877320e+17</td>\n      <td>28.000000</td>\n      <td>0.306000</td>\n      <td>0.000000</td>\n      <td>0.000000</td>\n      <td>0.054000</td>\n      <td>0.018000</td>\n      <td>0.000000</td>\n      <td>0.102000</td>\n      <td>0.106000</td>\n      <td>0.180000</td>\n      <td>0.000000</td>\n      <td>0.000000</td>\n      <td>0.000000</td>\n    </tr>\n    <tr>\n      <th>50%</th>\n      <td>5.877386e+17</td>\n      <td>34.000000</td>\n      <td>0.581000</td>\n      <td>0.016000</td>\n      <td>0.021000</td>\n      <td>0.130000</td>\n      <td>0.053000</td>\n      <td>0.000000</td>\n      <td>0.267000</td>\n      <td>0.347000</td>\n      <td>0.462000</td>\n      <td>0.000000</td>\n      <td>0.000000</td>\n      <td>1.000000</td>\n    </tr>\n    <tr>\n      <th>75%</th>\n      <td>5.877428e+17</td>\n      <td>51.000000</td>\n      <td>0.783000</td>\n      <td>0.051000</td>\n      <td>0.062000</td>\n      <td>0.275000</td>\n      <td>0.103000</td>\n      <td>0.020000</td>\n      <td>0.586000</td>\n      <td>0.664000</td>\n      <td>0.789000</td>\n      <td>1.000000</td>\n      <td>0.000000</td>\n      <td>1.000000</td>\n    </tr>\n    <tr>\n      <th>max</th>\n      <td>5.888489e+17</td>\n      <td>94.000000</td>\n      <td>1.000000</td>\n      <td>1.000000</td>\n      <td>1.000000</td>\n      <td>1.000000</td>\n      <td>1.000000</td>\n      <td>1.000000</td>\n      <td>1.000000</td>\n      <td>1.000000</td>\n      <td>1.000000</td>\n      <td>1.000000</td>\n      <td>1.000000</td>\n      <td>1.000000</td>\n    </tr>\n  </tbody>\n</table>\n</div>"
     },
     "metadata": {},
     "output_type": "display_data"
    },
    {
     "name": "stdout",
     "output_type": "stream",
     "text": [
      "Pourcentage de valeurs manquantes :\n",
      "----------\n",
      "\n"
     ]
    },
    {
     "data": {
      "text/plain": "OBJID            0.0\nRA               0.0\nDEC              0.0\nNVOTE            0.0\nP_EL             0.0\nP_CW             0.0\nP_ACW            0.0\nP_EDGE           0.0\nP_DK             0.0\nP_MG             0.0\nP_CS             0.0\nP_EL_DEBIASED    0.0\nP_CS_DEBIASED    0.0\nSPIRAL           0.0\nELLIPTICAL       0.0\nUNCERTAIN        0.0\ndtype: float64"
     },
     "metadata": {},
     "output_type": "display_data"
    },
    {
     "name": "stdout",
     "output_type": "stream",
     "text": [
      "Type des valeurs :\n",
      "----------\n",
      "\n"
     ]
    },
    {
     "data": {
      "text/plain": "<AxesSubplot:ylabel='None'>"
     },
     "metadata": {},
     "output_type": "display_data"
    },
    {
     "data": {
      "text/plain": "<Figure size 432x288 with 1 Axes>",
      "image/png": "[encoded data removed]"
     },
     "metadata": {},
     "output_type": "display_data"
    }
   ],
   "source": [
    "data = pd.read_csv(\"../Datas/GalaxyZoo1_DR_table2.csv\")\n",
    "df = data.copy()\n",
    "VisualiseDataset(df)"
   ],
   "metadata": {
    "collapsed": false,
    "pycharm": {
     "name": "#%%\n"
    }
   }
  },
  {
   "cell_type": "markdown",
   "source": [
    "'### Basic checklist\n",
    "- **Targets variables** : Spiral, Elliptical and Uncertain\n",
    "- **lines and columns** : (667944, 16)\n",
    "- **Type de variables** : Majortiée de numérique, le reste sont objet (ici des dates)\n",
    "- **Analyse des valeurs manquantes** : Aucunes valeurs manquantes"
   ],
   "metadata": {
    "collapsed": false,
    "pycharm": {
     "name": "#%% md\n"
    }
   }
  },
  {
   "cell_type": "code",
   "execution_count": 67,
   "outputs": [
    {
     "data": {
      "text/plain": "<Figure size 432x288 with 1 Axes>",
      "image/png": "[encoded data removed]"
     },
     "metadata": {
      "needs_background": "light"
     },
     "output_type": "display_data"
    },
    {
     "data": {
      "text/plain": "<Figure size 432x288 with 1 Axes>",
      "image/png": "[encoded data removed]"
     },
     "metadata": {
      "needs_background": "light"
     },
     "output_type": "display_data"
    },
    {
     "data": {
      "text/plain": "<Figure size 432x288 with 1 Axes>",
      "image/png": "[encoded data removed]"
     },
     "metadata": {
      "needs_background": "light"
     },
     "output_type": "display_data"
    },
    {
     "data": {
      "text/plain": "<Figure size 432x288 with 1 Axes>",
      "image/png": "[encoded data removed]"
     },
     "metadata": {
      "needs_background": "light"
     },
     "output_type": "display_data"
    }
   ],
   "source": [
    "dfbiased = df.copy()\n",
    "dfbiased.drop(['OBJID', 'P_CS', 'P_EL', 'P_CW', 'P_MG', 'P_ACW', 'P_EDGE', 'RA', 'DEC', 'ELLIPTICAL', 'SPIRAL', 'UNCERTAIN'], axis=1, inplace=True)\n",
    "sns.histplot(dfbiased['NVOTE'])\n",
    "\n",
    "for col in dfbiased.select_dtypes('double'):\n",
    "    plt.figure()\n",
    "    sns.distplot(df[col])\n"
   ],
   "metadata": {
    "collapsed": false,
    "pycharm": {
     "name": "#%%\n"
    }
   }
  },
  {
   "cell_type": "markdown",
   "source": [
    "Supression des valeurs ou le nombre de vote est inférieur à 50."
   ],
   "metadata": {
    "collapsed": false,
    "pycharm": {
     "name": "#%% md\n"
    }
   }
  },
  {
   "cell_type": "code",
   "execution_count": 68,
   "outputs": [
    {
     "name": "stdout",
     "output_type": "stream",
     "text": [
      "Nombre de ligne suprimées : \n",
      "327417\n"
     ]
    },
    {
     "data": {
      "text/plain": "(340527, 16)"
     },
     "execution_count": 68,
     "metadata": {},
     "output_type": "execute_result"
    }
   ],
   "source": [
    "shapeBase = len(df.index)\n",
    "df = df[df.NVOTE >= 15]\n",
    "df = df[df.P_DK > 0.05]\n",
    "shapeAfterModif = len(df.index)\n",
    "\n",
    "print(\"Nombre de ligne suprimées : \")\n",
    "print(shapeBase - shapeAfterModif)\n",
    "\n",
    "df.shape"
   ],
   "metadata": {
    "collapsed": false,
    "pycharm": {
     "name": "#%%\n"
    }
   }
  },
  {
   "cell_type": "code",
   "execution_count": 69,
   "outputs": [],
   "source": [
    "correlationDf = df.copy()\n",
    "correlationDf.drop(['OBJID', 'NVOTE', 'DEC', 'RA', 'SPIRAL', 'UNCERTAIN', 'ELLIPTICAL'], axis=1, inplace=True)"
   ],
   "metadata": {
    "collapsed": false,
    "pycharm": {
     "name": "#%%\n"
    }
   }
  },
  {
   "cell_type": "code",
   "execution_count": 70,
   "outputs": [
    {
     "data": {
      "text/plain": "<seaborn.matrix.ClusterGrid at 0x7f8978d89700>"
     },
     "execution_count": 70,
     "metadata": {},
     "output_type": "execute_result"
    },
    {
     "data": {
      "text/plain": "<Figure size 720x720 with 4 Axes>",
      "image/png": "[encoded data removed]"
     },
     "metadata": {
      "needs_background": "light"
     },
     "output_type": "display_data"
    }
   ],
   "source": [
    "sns.clustermap(correlationDf.corr())"
   ],
   "metadata": {
    "collapsed": false,
    "pycharm": {
     "name": "#%%\n"
    }
   }
  },
  {
   "cell_type": "markdown",
   "source": [
    "Création d'un dataset final"
   ],
   "metadata": {
    "collapsed": false,
    "pycharm": {
     "name": "#%% md\n"
    }
   }
  },
  {
   "cell_type": "code",
   "execution_count": 71,
   "outputs": [
    {
     "name": "stdout",
     "output_type": "stream",
     "text": [
      "OBJID            6609\n",
      "RA               6609\n",
      "DEC              6609\n",
      "NVOTE            6609\n",
      "P_EL             6609\n",
      "P_CW             6609\n",
      "P_ACW            6609\n",
      "P_EDGE           6609\n",
      "P_DK             6609\n",
      "P_MG             6609\n",
      "P_CS             6609\n",
      "P_EL_DEBIASED    6609\n",
      "P_CS_DEBIASED    6609\n",
      "SPIRAL           6609\n",
      "ELLIPTICAL       6609\n",
      "UNCERTAIN        6609\n",
      "dtype: int64\n"
     ]
    }
   ],
   "source": [
    "print(df[ df['P_MG'] > 0.4].count())"
   ],
   "metadata": {
    "collapsed": false,
    "pycharm": {
     "name": "#%%\n"
    }
   }
  },
  {
   "cell_type": "code",
   "execution_count": 72,
   "outputs": [],
   "source": [
    "dfWithPreProcess = df.copy()\n",
    "dfWithPreProcess.drop(['NVOTE', 'P_EL', 'P_CW', 'P_ACW', 'P_EDGE', 'P_DK', 'P_CS', 'P_EL_DEBIASED', 'P_CS_DEBIASED'], axis=1, inplace=True)"
   ],
   "metadata": {
    "collapsed": false,
    "pycharm": {
     "name": "#%%\n"
    }
   }
  },
  {
   "cell_type": "code",
   "execution_count": 73,
   "outputs": [],
   "source": [
    "dfWithPreProcess['MERGED'] = np.where(df['P_MG'] > 0.5, 1, 0)"
   ],
   "metadata": {
    "collapsed": false,
    "pycharm": {
     "name": "#%%\n"
    }
   }
  },
  {
   "cell_type": "code",
   "execution_count": 74,
   "outputs": [
    {
     "data": {
      "text/plain": "                OBJID           RA          DEC   P_MG  SPIRAL  ELLIPTICAL  \\\n0  587727178986356823  00:00:00.41  -10:22:25.7  0.051       0           0   \n2  587727225153257596  00:00:01.03  -10:56:48.0  0.015       0           0   \n4  587731186203885750  00:00:01.55  -00:05:33.3  0.000       0           0   \n5  587727180060098638  00:00:01.57  -09:29:40.3  0.000       0           0   \n6  587731187277627676  00:00:01.86  +00:43:09.3  0.053       0           0   \n\n   UNCERTAIN  MERGED  \n0          1       0  \n2          1       0  \n4          1       0  \n5          1       0  \n6          1       0  ",
      "text/html": "<div>\n<style scoped>\n    .dataframe tbody tr th:only-of-type {\n        vertical-align: middle;\n    }\n\n    .dataframe tbody tr th {\n        vertical-align: top;\n    }\n\n    .dataframe thead th {\n        text-align: right;\n    }\n</style>\n<table border=\"1\" class=\"dataframe\">\n  <thead>\n    <tr style=\"text-align: right;\">\n      <th></th>\n      <th>OBJID</th>\n      <th>RA</th>\n      <th>DEC</th>\n      <th>P_MG</th>\n      <th>SPIRAL</th>\n      <th>ELLIPTICAL</th>\n      <th>UNCERTAIN</th>\n      <th>MERGED</th>\n    </tr>\n  </thead>\n  <tbody>\n    <tr>\n      <th>0</th>\n      <td>587727178986356823</td>\n      <td>00:00:00.41</td>\n      <td>-10:22:25.7</td>\n      <td>0.051</td>\n      <td>0</td>\n      <td>0</td>\n      <td>1</td>\n      <td>0</td>\n    </tr>\n    <tr>\n      <th>2</th>\n      <td>587727225153257596</td>\n      <td>00:00:01.03</td>\n      <td>-10:56:48.0</td>\n      <td>0.015</td>\n      <td>0</td>\n      <td>0</td>\n      <td>1</td>\n      <td>0</td>\n    </tr>\n    <tr>\n      <th>4</th>\n      <td>587731186203885750</td>\n      <td>00:00:01.55</td>\n      <td>-00:05:33.3</td>\n      <td>0.000</td>\n      <td>0</td>\n      <td>0</td>\n      <td>1</td>\n      <td>0</td>\n    </tr>\n    <tr>\n      <th>5</th>\n      <td>587727180060098638</td>\n      <td>00:00:01.57</td>\n      <td>-09:29:40.3</td>\n      <td>0.000</td>\n      <td>0</td>\n      <td>0</td>\n      <td>1</td>\n      <td>0</td>\n    </tr>\n    <tr>\n      <th>6</th>\n      <td>587731187277627676</td>\n      <td>00:00:01.86</td>\n      <td>+00:43:09.3</td>\n      <td>0.053</td>\n      <td>0</td>\n      <td>0</td>\n      <td>1</td>\n      <td>0</td>\n    </tr>\n  </tbody>\n</table>\n</div>"
     },
     "execution_count": 74,
     "metadata": {},
     "output_type": "execute_result"
    }
   ],
   "source": [
    "dfWithPreProcess.head()"
   ],
   "metadata": {
    "collapsed": false,
    "pycharm": {
     "name": "#%%\n"
    }
   }
  },
  {
   "cell_type": "code",
   "execution_count": 75,
   "outputs": [],
   "source": [
    "dfWithPreProcess.drop(['P_MG', 'UNCERTAIN'], axis=1, inplace=True)\n",
    "dfWithPreProcess.to_csv('../Datas/dataWithPreProcess.csv')"
   ],
   "metadata": {
    "collapsed": false,
    "pycharm": {
     "name": "#%%\n"
    }
   }
  },
  {
   "cell_type": "code",
   "execution_count": 76,
   "outputs": [
    {
     "name": "stdout",
     "output_type": "stream",
     "text": [
      "27337\n",
      "22794\n",
      "3260\n"
     ]
    }
   ],
   "source": [
    "dfShow = dfWithPreProcess[['SPIRAL', 'ELLIPTICAL', 'MERGED']]\n",
    "\n",
    "for nom in dfShow.columns:\n",
    "    col = dfShow[nom]\n",
    "    print(col[col == 1].shape[0])\n",
    "\n"
   ],
   "metadata": {
    "collapsed": false,
    "pycharm": {
     "name": "#%%\n"
    }
   }
  }
 ],
 "metadata": {
  "kernelspec": {
   "display_name": "Python 3",
   "language": "python",
   "name": "python3"
  },
  "language_info": {
   "codemirror_mode": {
    "name": "ipython",
    "version": 2
   },
   "file_extension": ".py",
   "mimetype": "text/x-python",
   "name": "python",
   "nbconvert_exporter": "python",
   "pygments_lexer": "ipython2",
   "version": "2.7.6"
  }
 },
 "nbformat": 4,
 "nbformat_minor": 0
}